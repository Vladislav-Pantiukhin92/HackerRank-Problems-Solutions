{
 "cells": [
  {
   "cell_type": "markdown",
   "id": "4486ad06",
   "metadata": {},
   "source": [
    "### Compare two linked lists - HackerRank"
   ]
  },
  {
   "cell_type": "code",
   "execution_count": null,
   "id": "15c18813",
   "metadata": {},
   "outputs": [],
   "source": [
    "\"\"\"\n",
    "You’re given the pointer to the head nodes of two linked lists. Compare the data in the nodes of the \n",
    "linked lists to check if they are equal. If all data attributes are equal and the lists are the same \n",
    "length, return 1. Otherwise, return 0.\n",
    "\n",
    "Example:\n",
    "list1=1->2->3->Null\n",
    "list2=1->2->3->4->Null\n",
    "\n",
    "The two lists have equal data attributes for the first 3 nodes. list2 is longer, though, so the lists \n",
    "are not equal. Return 0.\n",
    "Function Description:\n",
    "\n",
    "Complete the compare_lists function in the editor below.\n",
    "compare_lists has the following parameters:\n",
    "      1. SinglyLinkedListNode llist1: a reference to the head of a list\n",
    "      2. SinglyLinkedListNode llist2: a reference to the head of a list\n",
    "\n",
    "Returns:\n",
    "        int: return 1 if the lists are equal, or 0 otherwise\n",
    "\n",
    "Input Format:\n",
    "The first line contains an integer t, the number of test cases.\n",
    "\n",
    "Each of the test cases has the following format:\n",
    "The first line contains an integer n, the number of nodes in the first linked list.\n",
    "Each of the next n lines contains an integer, each a value for a data attribute.\n",
    "The next line contains an integer m, the number of nodes in the second linked list.\n",
    "Each of the next m lines contains an integer, each a value for a data attribute.\n",
    "\"\"\"\n",
    "\n",
    "def compare_lists(llist1, llist2):\n",
    "# To compare two Singly Linked Lists, let's create two empty list containers, which will store values/data of \n",
    "# nodes\n",
    "    final1 = [] # The first list container\n",
    "    final2 = [] # The second list container\n",
    "    current1 = llist1\n",
    "    current2 = llist2\n",
    "# Secondly, let's traverse the first and the second Singly Linked Lists, simultaneously extracting the nodes' data:\n",
    "    while current1: # Traversal of the first Singly Linked List\n",
    "        curData = current1.data\n",
    "        final1.append(curData) # The node's value is appended to the rear of the list container\n",
    "        current1 = current1.next\n",
    "    while current2: # Traversal of the second Singly Linked List\n",
    "        curData = current2.data\n",
    "        final2.append(curData) # The node's value is appended to the rear of the list container\n",
    "        current2 = current2.next\n",
    "    length1 = len(final1) # Length of the first list container\n",
    "    length2 = len(final2) # Length of the second list container\n",
    "    if length1 != length2: # If these lists are not equal - we return 0 at once\n",
    "        return 0\n",
    "    # If the length of these lists is equal - we start comparing two lists with the help of two pointers:\n",
    "    i = 0\n",
    "    j = 0\n",
    "    while i < len(final1):\n",
    "        if final1[i] != final2[j]:\n",
    "            return 0 # If the parallel values are not the same - we return 0 at once\n",
    "        i += 1\n",
    "        j += 1\n",
    "    return 1 # Otherwise, following the 'while loop' without discrepancies - we return 1"
   ]
  }
 ],
 "metadata": {
  "kernelspec": {
   "display_name": "Python 3 (ipykernel)",
   "language": "python",
   "name": "python3"
  },
  "language_info": {
   "codemirror_mode": {
    "name": "ipython",
    "version": 3
   },
   "file_extension": ".py",
   "mimetype": "text/x-python",
   "name": "python",
   "nbconvert_exporter": "python",
   "pygments_lexer": "ipython3",
   "version": "3.9.7"
  }
 },
 "nbformat": 4,
 "nbformat_minor": 5
}
