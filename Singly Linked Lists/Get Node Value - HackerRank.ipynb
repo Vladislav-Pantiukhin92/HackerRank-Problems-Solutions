{
 "cells": [
  {
   "cell_type": "markdown",
   "id": "4486ad06",
   "metadata": {},
   "source": [
    "### Get Node Value - HackerRank"
   ]
  },
  {
   "cell_type": "code",
   "execution_count": null,
   "id": "7d4938cb",
   "metadata": {},
   "outputs": [],
   "source": [
    "\"\"\"\n",
    "This challenge is part of a tutorial track by MyCodeSchool\n",
    "Given a pointer to the head of a linked list and a specific position, determine the data value at that \n",
    "position. Count backwards from the tail node. The tail is at postion 0, its parent is at 1 and so on.\n",
    "\n",
    "Example\n",
    "head refers to  3 -> 2 -> 1 -> 0 -> NULL\n",
    "positionFromTail = 2\n",
    "\n",
    "Each of the data values matches its distance from the tail. The value 2 is at the desired position.\n",
    "Complete the getNode function in the editor below.\n",
    "getNode has the following parameters:\n",
    "\n",
    "SinglyLinkedListNode pointer head: refers to the head of the list\n",
    "int positionFromTail: the item to retrieve\n",
    "Returns\n",
    "\n",
    "int: the value at the desired position\n",
    "Input Format\n",
    "\n",
    "The first line contains an integer t, the number of test cases.\n",
    "Each test case has the following format:\n",
    "The first line contains an integer n, the number of elements in the linked list.\n",
    "The next n lines contains an integer, the data value for an element of the linked list.\n",
    "The last line contains an integer positionFromTail, the position from the tail to retrieve the value of.\n",
    "\"\"\"\n",
    "\n",
    "from operator import * # 'operator.neg' will be used to create the negative index position from the end of the\n",
    "# list container\n",
    "\n",
    "def getNode(llist, positionFromTail):\n",
    "# We are going to store all nodes' values within the initialized list container\n",
    "    final = []\n",
    "    current = llist\n",
    "    while current: # Traversal of the Singly Linked List\n",
    "        curData = current.data\n",
    "        final.append(curData) # During the traversal of the Singly Linked List all nodes' values are\n",
    "        # appended to the rear of the list container\n",
    "        current = current.next\n",
    "    return final[neg(positionFromTail + 1)] # Finally, we return the corresponding index of the element within \n",
    "# the list container"
   ]
  }
 ],
 "metadata": {
  "kernelspec": {
   "display_name": "Python 3 (ipykernel)",
   "language": "python",
   "name": "python3"
  },
  "language_info": {
   "codemirror_mode": {
    "name": "ipython",
    "version": 3
   },
   "file_extension": ".py",
   "mimetype": "text/x-python",
   "name": "python",
   "nbconvert_exporter": "python",
   "pygments_lexer": "ipython3",
   "version": "3.9.7"
  }
 },
 "nbformat": 4,
 "nbformat_minor": 5
}
