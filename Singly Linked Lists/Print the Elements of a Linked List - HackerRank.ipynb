{
 "cells": [
  {
   "cell_type": "markdown",
   "id": "7e10c758",
   "metadata": {},
   "source": [
    "### Print the Elements of a Linked List - HackerRank"
   ]
  },
  {
   "cell_type": "code",
   "execution_count": null,
   "id": "f3f5c210",
   "metadata": {},
   "outputs": [],
   "source": [
    "\"\"\"\n",
    "This is an to practice traversing a linked list. Given a pointer to the head node of a linked list, \n",
    "print each node's 'data' element, one per line. If the head pointer is null (indicating the list is \n",
    "empty), there is nothing to print.\n",
    "\n",
    "Function Description\n",
    "Complete the printLinkedList function in the editor below.\n",
    "printLinkedList has the following parameter(s):\n",
    "SinglyLinkedListNode head: a reference to the head of the list\n",
    "Print\n",
    "For each node, print its 'data' value on a new line (console.log in Javascript).\n",
    "\"\"\"\n",
    "\n",
    "def printLinkedList(head):\n",
    "# To print the value of all nodes it is necessary to traverse the Singly Linked List:\n",
    "    current = head\n",
    "    while current: # While the node is not None - we print its value and move forward\n",
    "        print(current.data)\n",
    "        current = current.next"
   ]
  }
 ],
 "metadata": {
  "kernelspec": {
   "display_name": "Python 3 (ipykernel)",
   "language": "python",
   "name": "python3"
  },
  "language_info": {
   "codemirror_mode": {
    "name": "ipython",
    "version": 3
   },
   "file_extension": ".py",
   "mimetype": "text/x-python",
   "name": "python",
   "nbconvert_exporter": "python",
   "pygments_lexer": "ipython3",
   "version": "3.9.7"
  }
 },
 "nbformat": 4,
 "nbformat_minor": 5
}
