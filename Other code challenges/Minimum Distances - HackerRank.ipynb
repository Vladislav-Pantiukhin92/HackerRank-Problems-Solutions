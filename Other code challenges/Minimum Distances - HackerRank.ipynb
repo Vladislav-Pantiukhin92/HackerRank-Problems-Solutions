{
 "cells": [
  {
   "cell_type": "markdown",
   "id": "0e45a5c1",
   "metadata": {},
   "source": [
    "### Minimum Distances - HackerRank"
   ]
  },
  {
   "cell_type": "code",
   "execution_count": 29,
   "id": "7f73432d",
   "metadata": {},
   "outputs": [
    {
     "data": {
      "text/plain": [
       "2"
      ]
     },
     "execution_count": 29,
     "metadata": {},
     "output_type": "execute_result"
    }
   ],
   "source": [
    "\"\"\"\n",
    "The distance between two array values is the number of indices between them. Given 'a', \n",
    "find the minimum distance between any pair of equal elements in the array. If no such value exists, return -1.\n",
    "\"\"\"\n",
    "\n",
    "from operator import * # 'operator.sub' will execute the subtraction operation to find the minDifference\n",
    "\n",
    "def minimumDistances(a):\n",
    "    myDict = {} # The dictionary is created to store elements as keys and their index location as values\n",
    "    for i, j in enumerate(a): # The dictionary will be filled through the implementation of the 'enumerate' function\n",
    "        if j not in myDict:\n",
    "            myDict[j] = [i]\n",
    "        else:\n",
    "            myDict[j].append(i)\n",
    "    minDifference = float(\"inf\") # The initial 'minDifference' parameter is the infinity\n",
    "    for i in myDict: # During the subsequent iteration of the filled dictionary, we are going to take into \n",
    "    # account only lists (dictionary values), which contain more than 1 index location\n",
    "        if len(myDict[i]) > 1:\n",
    "            m = 0\n",
    "            n = 1\n",
    "            while n < len(myDict[i]):\n",
    "                # Here we are going to determine the minDifference, while looping over index locations\n",
    "                if sub(myDict[i][n], myDict[i][m]) < minDifference:\n",
    "                    # The difference of index locations will be calculated through the subtraction operation\n",
    "                    minDifference = sub(myDict[i][n], myDict[i][m]) # The minDifference will be updated\n",
    "                m += 1\n",
    "                n += 1\n",
    "    if minDifference == float(\"inf\"): # If the minDifference is still the infinity, we return -1\n",
    "        return -1\n",
    "    return minDifference # Otherwise, we return the smallest difference\n",
    "\n",
    "minimumDistances([3,2,1,2,3])"
   ]
  }
 ],
 "metadata": {
  "kernelspec": {
   "display_name": "Python 3 (ipykernel)",
   "language": "python",
   "name": "python3"
  },
  "language_info": {
   "codemirror_mode": {
    "name": "ipython",
    "version": 3
   },
   "file_extension": ".py",
   "mimetype": "text/x-python",
   "name": "python",
   "nbconvert_exporter": "python",
   "pygments_lexer": "ipython3",
   "version": "3.9.7"
  }
 },
 "nbformat": 4,
 "nbformat_minor": 5
}
