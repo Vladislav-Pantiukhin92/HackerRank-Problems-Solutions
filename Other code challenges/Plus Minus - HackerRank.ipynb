{
 "cells": [
  {
   "cell_type": "markdown",
   "id": "1ed3b7d1",
   "metadata": {},
   "source": [
    "### Plus Minus - HackerRank"
   ]
  },
  {
   "cell_type": "code",
   "execution_count": 11,
   "id": "3a79278f",
   "metadata": {},
   "outputs": [
    {
     "name": "stdout",
     "output_type": "stream",
     "text": [
      "0.4\n",
      "0.4\n",
      "0.2\n"
     ]
    }
   ],
   "source": [
    "\"\"\"\n",
    "Given an array of integers, calculate the ratios of its elements that are positive, negative, and zero. \n",
    "Print the decimal value of each fraction on a new line with 6 places after the decimal.\n",
    "Note: This challenge introduces precision problems. The test cases are scaled to six decimal places, \n",
    "though answers with absolute error of up to 10-4 are acceptable.\n",
    "Example\n",
    "\n",
    "arr = [1, 1, 0, -1, -1]\n",
    "There are n = 5 elements, two positive, two negative and one zero. Their ratios are 2/5 = 0.400000, \n",
    "2/5 = 0.400000 and 1/5 = 0.200000. Results are printed as:\n",
    "\n",
    "0.400000\n",
    "0.400000\n",
    "0.200000\n",
    "Function Description\n",
    "\n",
    "Complete the plusMinus function in the editor below.\n",
    "plusMinus has the following parameter(s):\n",
    "\n",
    "int arr[n]: an array of integers\n",
    "Print\n",
    "Print the ratios of positive, negative and zero values in the array. Each value should be printed on \n",
    "a separate line with 6 digits after the decimal. The function should not return a value.\n",
    "\"\"\"\n",
    "\n",
    "def plusMinus(arr):\n",
    "    length = len(arr) # To calculate the ratio values it is necessary to know the length of the given input array\n",
    "    # Through the execution of the 'filter' function let's find out the number of:\n",
    "    # positive values\n",
    "    positive = len(list(filter(lambda x: x > 0, arr)))\n",
    "    # negative values\n",
    "    negative = len(list(filter(lambda y: y < 0, arr)))\n",
    "    # zero values\n",
    "    zeros = len(list(filter(lambda z: z == 0, arr)))\n",
    "    pos = positive / length # Ratio of positive values\n",
    "    neg = negative / length # Ratio of negative values\n",
    "    zero = zeros / length # Ratio of zero values\n",
    "    print(pos) # The ratio of positive values is printed\n",
    "    print(neg) # The ratio of negative values is printed\n",
    "    print(zero) # The ratio of zero values is printed\n",
    "\n",
    "plusMinus([1, 1, 0, -1, -1])"
   ]
  }
 ],
 "metadata": {
  "kernelspec": {
   "display_name": "Python 3 (ipykernel)",
   "language": "python",
   "name": "python3"
  },
  "language_info": {
   "codemirror_mode": {
    "name": "ipython",
    "version": 3
   },
   "file_extension": ".py",
   "mimetype": "text/x-python",
   "name": "python",
   "nbconvert_exporter": "python",
   "pygments_lexer": "ipython3",
   "version": "3.9.7"
  }
 },
 "nbformat": 4,
 "nbformat_minor": 5
}
