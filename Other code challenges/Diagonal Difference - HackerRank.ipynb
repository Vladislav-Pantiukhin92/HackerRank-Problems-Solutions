{
 "cells": [
  {
   "cell_type": "markdown",
   "id": "594eba1f",
   "metadata": {},
   "source": [
    "### Diagonal Difference - HackerRank"
   ]
  },
  {
   "cell_type": "code",
   "execution_count": 7,
   "id": "ab4e5d01",
   "metadata": {},
   "outputs": [
    {
     "data": {
      "text/plain": [
       "2"
      ]
     },
     "execution_count": 7,
     "metadata": {},
     "output_type": "execute_result"
    }
   ],
   "source": [
    "\"\"\"\n",
    "Given a square matrix, calculate the absolute difference between the sums of its diagonals.\n",
    "For example, the square matrix arr is shown below:\n",
    "\n",
    "1 2 3\n",
    "4 5 6\n",
    "9 8 9  \n",
    "The left-to-right diagonal = 1 + 5 + 9 = 15. The right to left diagonal = 3 + 5 + 9 = 17. \n",
    "Their absolute difference is |15 – 17| = 2.\n",
    "Function description\n",
    "Complete the DiagonalDifference function in the editor below.\n",
    "\n",
    "diagonalDifference takes the following parameter:\n",
    "\n",
    "int arr[n][m]: an array of integers\n",
    "Return\n",
    "int: the absolute diagonal difference\n",
    "\"\"\"\n",
    "\n",
    "def diagonalDifference(arr):\n",
    "    first_diag = 0 # The initial sum of the first diagonal\n",
    "    second_diag = 0 # The initial sum of the second diagonal\n",
    "    j = 0\n",
    "    # Through the 'for loop' we are going to find out the sum of the left-to-right diagonal\n",
    "    for i in range(len(arr)):\n",
    "        curValue = arr[i][j]\n",
    "        first_diag += curValue\n",
    "        j += 1\n",
    "    j = len(arr) - 1\n",
    "    # Through the 'for loop' we are going to find out the sum of the right-to-left diagonal\n",
    "    for i in range(len(arr)):\n",
    "        curValue = arr[i][j]\n",
    "        second_diag += curValue\n",
    "        j -= 1\n",
    "    return abs(first_diag - second_diag) # Let's calculate the absolute difference of two sums and return the result\n",
    "diagonalDifference([[1,2,3],[4,5,6],[9,8,9]])"
   ]
  }
 ],
 "metadata": {
  "kernelspec": {
   "display_name": "Python 3 (ipykernel)",
   "language": "python",
   "name": "python3"
  },
  "language_info": {
   "codemirror_mode": {
    "name": "ipython",
    "version": 3
   },
   "file_extension": ".py",
   "mimetype": "text/x-python",
   "name": "python",
   "nbconvert_exporter": "python",
   "pygments_lexer": "ipython3",
   "version": "3.9.7"
  }
 },
 "nbformat": 4,
 "nbformat_minor": 5
}
