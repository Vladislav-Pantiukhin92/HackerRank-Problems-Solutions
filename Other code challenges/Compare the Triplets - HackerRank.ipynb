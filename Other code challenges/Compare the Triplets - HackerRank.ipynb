{
 "cells": [
  {
   "cell_type": "markdown",
   "id": "d3899905",
   "metadata": {},
   "source": [
    "### Compare the Triplets - HackerRank"
   ]
  },
  {
   "cell_type": "code",
   "execution_count": 5,
   "id": "54b55597",
   "metadata": {},
   "outputs": [
    {
     "data": {
      "text/plain": [
       "[1, 1]"
      ]
     },
     "execution_count": 5,
     "metadata": {},
     "output_type": "execute_result"
    }
   ],
   "source": [
    "\"\"\"\n",
    "Alice and Bob each created one problem for HackerRank. A reviewer rates the two challenges, awarding \n",
    "points on a scale from 1 to 100 for three categories: problem clarity, originality, and difficulty.\n",
    "The rating for Alice's challenge is the triplet a = (a[0], a[1], a[2]), and the rating for Bob's \n",
    "challenge is the triplet b = (b[0], b[1], b[2]).\n",
    "The task is to find their comparison points by comparing a[0] with b[0], a[1] with b[1], and a[2] \n",
    "with b[2].\n",
    "\n",
    "If a[i] > b[i], then Alice is awarded 1 point.\n",
    "If a[i] < b[i], then Bob is awarded 1 point.\n",
    "If a[i] = b[i], then neither person receives a point.\n",
    "Comparison points is the total points a person earned.\n",
    "Given a and b, determine their respective comparison points.\n",
    "Example\n",
    "\n",
    "a = [1, 2, 3]\n",
    "b = [3, 2, 1]\n",
    "For elements *0*, Bob is awarded a point because a[0] .\n",
    "For the equal elements a[1] and b[1], no points are earned.\n",
    "Finally, for elements 2, a[2] > b[2] so Alice receives a point.\n",
    "The return array is [1, 1] with Alice's score first and Bob's second.\n",
    "\n",
    "Function Description\n",
    "Complete the function compareTriplets in the editor below.\n",
    "compareTriplets has the following parameter(s):\n",
    "\n",
    "int a[3]: Alice's challenge rating\n",
    "int b[3]: Bob's challenge rating\n",
    "Return\n",
    "\n",
    "int[2]: Alice's score is in the first position, and Bob's score is in the second.\n",
    "Input Format\n",
    "The first line contains 3 space-separated integers, a[0], a[1], and a[2], the respective values in triplet a.\n",
    "The second line contains 3 space-separated integers, b[0], b[1], and b[2], the respective values in triplet b.\n",
    "\"\"\"\n",
    "\n",
    "def compareTriplets(a, b):\n",
    "    final = [0,0] # The initial score of two people. The first person is Alice, and the second person is Bob\n",
    "    i = 0 # We are going to use two pointers to carry out element-by-element comparisons \n",
    "    j = 0\n",
    "    while i < len(a):\n",
    "        if a[i] > b[j]: # If the first number is bigger than the second one, Alice obtains 1 score\n",
    "            final[0] += 1\n",
    "        elif a[i] < b[j]: # If the first number is smaller than the second one, Bob obtains 1 score\n",
    "            final[1] += 1\n",
    "        # Equal elements are not taken into account\n",
    "        i += 1\n",
    "        j += 1\n",
    "    return final # The final list with total scores of two people is returned\n",
    "\n",
    "compareTriplets([1, 2, 3], [3, 2, 1])"
   ]
  }
 ],
 "metadata": {
  "kernelspec": {
   "display_name": "Python 3 (ipykernel)",
   "language": "python",
   "name": "python3"
  },
  "language_info": {
   "codemirror_mode": {
    "name": "ipython",
    "version": 3
   },
   "file_extension": ".py",
   "mimetype": "text/x-python",
   "name": "python",
   "nbconvert_exporter": "python",
   "pygments_lexer": "ipython3",
   "version": "3.9.7"
  }
 },
 "nbformat": 4,
 "nbformat_minor": 5
}
