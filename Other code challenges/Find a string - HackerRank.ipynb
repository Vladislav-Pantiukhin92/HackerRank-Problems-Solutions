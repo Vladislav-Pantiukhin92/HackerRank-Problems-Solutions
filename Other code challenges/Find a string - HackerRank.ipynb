{
 "cells": [
  {
   "cell_type": "markdown",
   "id": "977f8092",
   "metadata": {},
   "source": [
    "### Find a string - HackerRank"
   ]
  },
  {
   "cell_type": "code",
   "execution_count": 23,
   "id": "5922fbea",
   "metadata": {},
   "outputs": [
    {
     "data": {
      "text/plain": [
       "2"
      ]
     },
     "execution_count": 23,
     "metadata": {},
     "output_type": "execute_result"
    }
   ],
   "source": [
    "\"\"\"\n",
    "In this challenge, the user enters a string and a substring. You have to print the number of times that \n",
    "the substring occurs in the given string. String traversal will take place from left to right, not from \n",
    "right to left.\n",
    "\"\"\"\n",
    "\n",
    "def count_substring(string, sub_string):\n",
    "    occurrence = 0 # The initial occurrence of the substring within the given input string is 0\n",
    "    length1 = len(string) # The length of the given input string\n",
    "    length2 = len(sub_string) # The length of the given input substring\n",
    "    if length2 >= length1: \n",
    "        if string == sub_string: # If the string and the substring are equal - we return 1 (1 occurrence)\n",
    "            return 1\n",
    "        return 0 # Otherwise, we return 0\n",
    "    else:\n",
    "    # It is necessary to use two pointers in order to compare different configurations within the string with the\n",
    "    # given input substring:\n",
    "        i = 0\n",
    "        j = length2\n",
    "        while j < len(string) + 1:\n",
    "            if string[i:j] == sub_string:\n",
    "                occurrence += 1 # If the configuration within the string and the substring are equal - we increase\n",
    "                # the number of occurrences by 1\n",
    "            i += 1\n",
    "            j += 1\n",
    "        return occurrence # The total number of occurrences is returned\n",
    "    \n",
    "count_substring(\"ABCDCDC\", \"CDC\")"
   ]
  }
 ],
 "metadata": {
  "kernelspec": {
   "display_name": "Python 3 (ipykernel)",
   "language": "python",
   "name": "python3"
  },
  "language_info": {
   "codemirror_mode": {
    "name": "ipython",
    "version": 3
   },
   "file_extension": ".py",
   "mimetype": "text/x-python",
   "name": "python",
   "nbconvert_exporter": "python",
   "pygments_lexer": "ipython3",
   "version": "3.9.7"
  }
 },
 "nbformat": 4,
 "nbformat_minor": 5
}
