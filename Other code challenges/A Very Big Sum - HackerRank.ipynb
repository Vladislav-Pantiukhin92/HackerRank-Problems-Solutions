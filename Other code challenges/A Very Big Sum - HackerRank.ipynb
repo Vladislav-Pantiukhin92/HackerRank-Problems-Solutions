{
 "cells": [
  {
   "cell_type": "markdown",
   "id": "b81f009a",
   "metadata": {},
   "source": [
    "### A Very Big Sum - HackerRank"
   ]
  },
  {
   "cell_type": "code",
   "execution_count": 6,
   "id": "0a6c380c",
   "metadata": {},
   "outputs": [
    {
     "data": {
      "text/plain": [
       "5000000015"
      ]
     },
     "execution_count": 6,
     "metadata": {},
     "output_type": "execute_result"
    }
   ],
   "source": [
    "\"\"\"\n",
    "In this challenge, you are required to calculate and print the sum of the elements in an array, \n",
    "keeping in mind that some of those integers may be quite large.\n",
    "Function Description\n",
    "Complete the aVeryBigSum function in the editor below. It must return the sum of all array elements.\n",
    "aVeryBigSum has the following parameter(s):\n",
    "\n",
    "int ar[n]: an array of integers .\n",
    "Return\n",
    "\n",
    "long: the sum of all array elements\n",
    "Input Format\n",
    "\n",
    "The first line of the input consists of an integer .\n",
    "The next line contains  space-separated integers contained in the array.\n",
    "Output Format\n",
    "Return the integer sum of the elements in the array.\n",
    "\"\"\"\n",
    "\n",
    "from functools import reduce # 'functools.reduce' will execute the summation procedure of elements within \n",
    "# the given input list\n",
    "\n",
    "def aVeryBigSum(ar):\n",
    "    result = reduce(lambda x, y: x + y, ar) # 'functools.reduce'\n",
    "    return result # The sumResult is returned\n",
    "aVeryBigSum([1000000001,1000000002,1000000003,1000000004,1000000005])"
   ]
  }
 ],
 "metadata": {
  "kernelspec": {
   "display_name": "Python 3 (ipykernel)",
   "language": "python",
   "name": "python3"
  },
  "language_info": {
   "codemirror_mode": {
    "name": "ipython",
    "version": 3
   },
   "file_extension": ".py",
   "mimetype": "text/x-python",
   "name": "python",
   "nbconvert_exporter": "python",
   "pygments_lexer": "ipython3",
   "version": "3.9.7"
  }
 },
 "nbformat": 4,
 "nbformat_minor": 5
}
