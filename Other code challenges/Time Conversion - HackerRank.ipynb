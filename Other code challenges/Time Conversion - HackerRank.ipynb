{
 "cells": [
  {
   "cell_type": "markdown",
   "id": "64958dce",
   "metadata": {},
   "source": [
    "### Time Conversion - HackerRank"
   ]
  },
  {
   "cell_type": "code",
   "execution_count": 14,
   "id": "02d3f04a",
   "metadata": {},
   "outputs": [
    {
     "data": {
      "text/plain": [
       "'12:01:00'"
      ]
     },
     "execution_count": 14,
     "metadata": {},
     "output_type": "execute_result"
    }
   ],
   "source": [
    "\"\"\"\n",
    "Given a time in 12-hour AM/PM format, convert it to military (24-hour) time.\n",
    "Note: – 12:00:00AM on a 12-hour clock is 00:00:00 on a 24-hour clock.\n",
    "– 12:00:00PM on a 12-hour clock is 12:00:00 on a 24-hour clock.\n",
    "Example\n",
    "\n",
    "s = ‘12:01:00PM’\n",
    "Return ’12:01:00′.\n",
    "\n",
    "s = ‘12:01:00PM’\n",
    "Return ’00:01:00′.\n",
    "\n",
    "Function Description\n",
    "Complete the timeConversion function in the editor below. It should return a new string representing \n",
    "the input time in 24 hour format.\n",
    "timeConversion has the following parameter(s):\n",
    "\n",
    "string s: a time in 12 hour format\n",
    "Returns\n",
    "string: the time in 24 hour format\n",
    "\"\"\"\n",
    "\n",
    "def timeConversion(s):\n",
    "    if s.endswith(\"PM\"): # The case, when the given input string ends with \"PM\"\n",
    "        # All in all, it is just necessary is some cases to change the hour\n",
    "        hours = int(s[:2])\n",
    "        if hours >= 12:\n",
    "            return s.rstrip(\"PM\") # The \"PM\" format is removed\n",
    "        else:\n",
    "            hours += 12\n",
    "            result = str(hours) + s[2:]\n",
    "            return result.rstrip(\"PM\") # The obtained result is returned\n",
    "    else: # The case, when the given input string ends with \"AM\"\n",
    "        # All in all, it is just necessary is some cases to change the hour\n",
    "        hours = int(s[:2])\n",
    "        if hours < 12:\n",
    "            return s.rstrip(\"AM\") # The \"AM\" format is removed\n",
    "        else:\n",
    "            hours -= 12\n",
    "            hours = str(hours).zfill(2) # If necessary, some zeros are added\n",
    "            result = hours + s[2:]\n",
    "            return result.rstrip(\"AM\") # The obtained result is returned\n",
    "        \n",
    "timeConversion(\"12:01:00PM\")"
   ]
  }
 ],
 "metadata": {
  "kernelspec": {
   "display_name": "Python 3 (ipykernel)",
   "language": "python",
   "name": "python3"
  },
  "language_info": {
   "codemirror_mode": {
    "name": "ipython",
    "version": 3
   },
   "file_extension": ".py",
   "mimetype": "text/x-python",
   "name": "python",
   "nbconvert_exporter": "python",
   "pygments_lexer": "ipython3",
   "version": "3.9.7"
  }
 },
 "nbformat": 4,
 "nbformat_minor": 5
}
