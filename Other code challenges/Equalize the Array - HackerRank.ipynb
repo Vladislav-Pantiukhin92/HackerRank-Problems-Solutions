{
 "cells": [
  {
   "cell_type": "markdown",
   "id": "3e43794e",
   "metadata": {},
   "source": [
    "### Equalize the Array - HackerRank"
   ]
  },
  {
   "cell_type": "code",
   "execution_count": 16,
   "id": "f2395fd3",
   "metadata": {},
   "outputs": [
    {
     "data": {
      "text/plain": [
       "2"
      ]
     },
     "execution_count": 16,
     "metadata": {},
     "output_type": "execute_result"
    }
   ],
   "source": [
    "\"\"\"\n",
    "Given an array of integers, determine the minimum number of elements to delete to leave only elements of equal value.\n",
    "Example:\n",
    "Arr = [1,2,2,3]\n",
    "Delete the 2 elements 1 and 3 leaving arr=[2,2]. If both twos plus either the 1 or 3  are deleted, \n",
    "it takes 3 deletions to leave either [3] or [1]. The minimum number of deletions is 2.\n",
    "\n",
    "Function Description\n",
    "Complete the equalizeArray function in the editor below.\n",
    "equalizeArray has the following parameter(s):\n",
    "int arr[n]: an array of integers\n",
    "Returns\n",
    "int: the minimum number of deletions required\n",
    "\"\"\"\n",
    "\n",
    "from collections import Counter # 'collections.Counter' will make it possible to create the dictionary, where\n",
    "# keys are elements within the given input array, and values are elements' occurrences within the given input array\n",
    "\n",
    "# The solution to the problem is the difference between the length of the given input array and the maximum\n",
    "# occurrence of an element:\n",
    "def equalizeArray(arr):\n",
    "    length = len(arr) # Let's determine the length of the input array\n",
    "    occurDict = dict(Counter(arr)) # The dictionary is created\n",
    "    # Through the use of the dict_method 'dict.values()' we obtain all occurrences. After that the maxResult is \n",
    "    # extracted\n",
    "    maxOccurrence = max(list(occurDict.values()))\n",
    "    return length - maxOccurrence # The difference between the length and the maxOccurrence is found and returned\n",
    "equalizeArray([1,2,2,3])"
   ]
  }
 ],
 "metadata": {
  "kernelspec": {
   "display_name": "Python 3 (ipykernel)",
   "language": "python",
   "name": "python3"
  },
  "language_info": {
   "codemirror_mode": {
    "name": "ipython",
    "version": 3
   },
   "file_extension": ".py",
   "mimetype": "text/x-python",
   "name": "python",
   "nbconvert_exporter": "python",
   "pygments_lexer": "ipython3",
   "version": "3.9.7"
  }
 },
 "nbformat": 4,
 "nbformat_minor": 5
}
