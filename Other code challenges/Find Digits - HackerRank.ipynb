{
 "cells": [
  {
   "cell_type": "markdown",
   "id": "280166ed",
   "metadata": {},
   "source": [
    "### Find Digits - HackerRank"
   ]
  },
  {
   "cell_type": "code",
   "execution_count": 28,
   "id": "8a1f2cfb",
   "metadata": {},
   "outputs": [
    {
     "data": {
      "text/plain": [
       "2"
      ]
     },
     "execution_count": 28,
     "metadata": {},
     "output_type": "execute_result"
    }
   ],
   "source": [
    "\"\"\"\n",
    "An integer d is a divisor of an integer n if the remainder of n/d=0.\n",
    "Given an integer, for each digit that makes up the integer determine whether it is a divisor. \n",
    "Count the number of divisors occurring within the integer.\n",
    "\"\"\"\n",
    "\n",
    "def findDigits(n):\n",
    "    integer = str(n).replace(\"0\", \"\") # To avoid the 'ZeroDivisionException' error it is necessary to remove\n",
    "    # zeros from the given input number\n",
    "    all_digits = list(map(int, list(integer))) # Following the zeros' removal, the given input number is split\n",
    "    # into digits\n",
    "    # The final step is to determine whether a digit is a divisor:\n",
    "    total = sum(1 for i in all_digits if n % i == 0)\n",
    "    return total # The total number of divisors is returned\n",
    "\n",
    "findDigits(24)"
   ]
  }
 ],
 "metadata": {
  "kernelspec": {
   "display_name": "Python 3 (ipykernel)",
   "language": "python",
   "name": "python3"
  },
  "language_info": {
   "codemirror_mode": {
    "name": "ipython",
    "version": 3
   },
   "file_extension": ".py",
   "mimetype": "text/x-python",
   "name": "python",
   "nbconvert_exporter": "python",
   "pygments_lexer": "ipython3",
   "version": "3.9.7"
  }
 },
 "nbformat": 4,
 "nbformat_minor": 5
}
