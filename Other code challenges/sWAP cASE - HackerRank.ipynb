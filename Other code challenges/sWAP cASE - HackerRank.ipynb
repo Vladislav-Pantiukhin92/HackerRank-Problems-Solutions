{
 "cells": [
  {
   "cell_type": "markdown",
   "id": "ff9da7b0",
   "metadata": {},
   "source": [
    "### sWAP cASE - HackerRank"
   ]
  },
  {
   "cell_type": "code",
   "execution_count": 22,
   "id": "d62783a9",
   "metadata": {},
   "outputs": [
    {
     "data": {
      "text/plain": [
       "'wWW.hACKERrANK.COM'"
      ]
     },
     "execution_count": 22,
     "metadata": {},
     "output_type": "execute_result"
    }
   ],
   "source": [
    "\"\"\"\n",
    "You are given a string and your task is to swap cases. In other words, convert all lowercase letters to \n",
    "uppercase letters and vice versa.\n",
    "For Example:\n",
    "\n",
    "Www.HackerRank.com → wWW.hACKERrANK.COM\n",
    "Pythonist 2 → pYTHONIST 2  \n",
    "Function Description\n",
    "\n",
    "Complete the swap_case function in the editor below.\n",
    "swap_case has the following parameters:\n",
    "string s: the string to modify\n",
    "\"\"\"\n",
    "\n",
    "# The special string method 'str.swapcase()' will be used for solving such kind of problem:\n",
    "def swap_case(s):\n",
    "    return s.swapcase() # The above-mentioned string method\n",
    "swap_case(\"Www.HackerRank.com\")"
   ]
  }
 ],
 "metadata": {
  "kernelspec": {
   "display_name": "Python 3 (ipykernel)",
   "language": "python",
   "name": "python3"
  },
  "language_info": {
   "codemirror_mode": {
    "name": "ipython",
    "version": 3
   },
   "file_extension": ".py",
   "mimetype": "text/x-python",
   "name": "python",
   "nbconvert_exporter": "python",
   "pygments_lexer": "ipython3",
   "version": "3.9.7"
  }
 },
 "nbformat": 4,
 "nbformat_minor": 5
}
