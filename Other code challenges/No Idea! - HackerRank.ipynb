{
 "cells": [
  {
   "cell_type": "markdown",
   "id": "764eaf54",
   "metadata": {},
   "source": [
    "### No Idea! - HackerRank"
   ]
  },
  {
   "cell_type": "code",
   "execution_count": null,
   "id": "d9d2c52c",
   "metadata": {},
   "outputs": [],
   "source": [
    "\"\"\"\n",
    "There is an array of n integers. There are also 2 disjoint sets, A and B, each containing m integers. \n",
    "You like all the integers in set A and dislike all the integers in set B. Your initial happiness is 0. \n",
    "For each i integer in the array, if i belongs to A, you add 1 to your happiness. If i belongs to B, \n",
    "you add -1 to your happiness. Otherwise, your happiness does not change. \n",
    "Output your final happiness at the end.\n",
    "\n",
    "Note: Since A and B are sets, they have no repeated elements. However, the array might contain duplicate elements.\n",
    "\"\"\"\n",
    "\n",
    "# Enter your code here. Read input from STDIN. Print output to STDOUT\n",
    "happiness = 0 # The initial happiness equals to 0\n",
    "\n",
    "first_line = input().strip().split() # Let's import the 'n' and 'm' parameters\n",
    "n = int(first_line[0]) # The 'n' parameter\n",
    "m = int(first_line[1]) # The 'm' parameter\n",
    "\n",
    "second_line = input().strip().split() # Let's import all the elements of the array\n",
    "my_array = list(map(int, second_line)) # Transformation of the numeric string into the list of integers\n",
    "\n",
    "third_line = input().strip().split() # Let's import elements of the first set\n",
    "set1 = set(list(map(int, third_line))) # Again, transformation of the numeric string into the set of integers\n",
    "\n",
    "fourth_line = input().strip().split() # Let's import elements of the second set\n",
    "set2 = set(list(map(int, fourth_line))) # Again, transformation of the numeric string into the set of integers\n",
    "\n",
    "for i in my_array: # Let's loop over all elements within the array\n",
    "    if i in set1: # If an element belongs to the first set, the degree of happiness is increased by 1\n",
    "        happiness += 1\n",
    "    elif i in set2: # If an element belongs to the second set, the degree of happiness is reduced by 1\n",
    "        happiness -= 1\n",
    "print(happiness) # The total degree of final happiness is printed"
   ]
  }
 ],
 "metadata": {
  "kernelspec": {
   "display_name": "Python 3 (ipykernel)",
   "language": "python",
   "name": "python3"
  },
  "language_info": {
   "codemirror_mode": {
    "name": "ipython",
    "version": 3
   },
   "file_extension": ".py",
   "mimetype": "text/x-python",
   "name": "python",
   "nbconvert_exporter": "python",
   "pygments_lexer": "ipython3",
   "version": "3.9.7"
  }
 },
 "nbformat": 4,
 "nbformat_minor": 5
}
