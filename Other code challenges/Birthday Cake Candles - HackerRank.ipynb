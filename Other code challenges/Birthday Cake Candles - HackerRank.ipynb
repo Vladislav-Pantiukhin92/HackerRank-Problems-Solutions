{
 "cells": [
  {
   "cell_type": "markdown",
   "id": "a3c95174",
   "metadata": {},
   "source": [
    "### Birthday Cake Candles - HackerRank"
   ]
  },
  {
   "cell_type": "code",
   "execution_count": 8,
   "id": "b2026cd1",
   "metadata": {},
   "outputs": [
    {
     "data": {
      "text/plain": [
       "2"
      ]
     },
     "execution_count": 8,
     "metadata": {},
     "output_type": "execute_result"
    }
   ],
   "source": [
    "\"\"\"\n",
    "You are in charge of the cake for a child's birthday. You have decided the cake will have one candle \n",
    "for each year of their total age. They will only be able to blow out the tallest of the candles. \n",
    "Count how many candles are tallest.\n",
    "\n",
    "Example:\n",
    "candles = [4,4,1,3]\n",
    "The maximum height candles are 4 units high. There are 2 of them, so return 2.\n",
    "Function Description\n",
    "Complete the function birthdayCakeCandles in the editor below.\n",
    "birthdayCakeCandles has the following parameter(s):\n",
    "int candles[n]: the candle heights\n",
    "Returns\n",
    "int: the number of candles that are tallest\n",
    "\"\"\"\n",
    "\n",
    "def birthdayCakeCandles(candles):\n",
    "    return candles.count(max(candles)) # The return result is the total count of maxElements within the \n",
    "# given input list\n",
    "\n",
    "birthdayCakeCandles([4,4,1,3])"
   ]
  }
 ],
 "metadata": {
  "kernelspec": {
   "display_name": "Python 3 (ipykernel)",
   "language": "python",
   "name": "python3"
  },
  "language_info": {
   "codemirror_mode": {
    "name": "ipython",
    "version": 3
   },
   "file_extension": ".py",
   "mimetype": "text/x-python",
   "name": "python",
   "nbconvert_exporter": "python",
   "pygments_lexer": "ipython3",
   "version": "3.9.7"
  }
 },
 "nbformat": 4,
 "nbformat_minor": 5
}
