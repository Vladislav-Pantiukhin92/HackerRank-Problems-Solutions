{
 "cells": [
  {
   "cell_type": "markdown",
   "id": "a654b7ae",
   "metadata": {},
   "source": [
    "### Staircase - HackerRank"
   ]
  },
  {
   "cell_type": "code",
   "execution_count": 13,
   "id": "ba19107d",
   "metadata": {},
   "outputs": [
    {
     "name": "stdout",
     "output_type": "stream",
     "text": [
      "    #\n",
      "   ##\n",
      "  ###\n",
      " ####\n",
      "#####\n"
     ]
    }
   ],
   "source": [
    "\"\"\"\n",
    "This is a staircase of size :\n",
    "   #\n",
    "  ##\n",
    " ###\n",
    "####\n",
    "\n",
    "Its base and height are both equal to . It is drawn using # symbols and spaces. \n",
    "The last line is not preceded by any spaces.\n",
    "Write a program that prints a staircase of size .\n",
    "Function Description\n",
    "Complete the staircase function in the editor below.\n",
    "staircase has the following parameter(s):\n",
    "\n",
    "int n: an integer\n",
    "Print\n",
    "\n",
    "Print a staircase as described above.\n",
    "Input Format\n",
    "A single integer, , denoting the size of the staircase.\n",
    "Output Format\n",
    "Print a staircase of size  using # symbols and spaces.\n",
    "\"\"\"\n",
    "\n",
    "def staircase(n):\n",
    "    # Let's create the staircase:\n",
    "    length = n\n",
    "    string = \" \" * (length) # Initially the entire string structure is the collection of spaces\n",
    "    i = length - 1\n",
    "    for _ in range(n): # During the execution of the 'for loop' we are going to replace the last string space\n",
    "    # with \"#\". The results will be printed:\n",
    "        curList = list(string)\n",
    "        curList[i] = \"#\"\n",
    "        string = \"\".join(curList)\n",
    "        print(string)\n",
    "        i -= 1\n",
    "        \n",
    "staircase(5)"
   ]
  }
 ],
 "metadata": {
  "kernelspec": {
   "display_name": "Python 3 (ipykernel)",
   "language": "python",
   "name": "python3"
  },
  "language_info": {
   "codemirror_mode": {
    "name": "ipython",
    "version": 3
   },
   "file_extension": ".py",
   "mimetype": "text/x-python",
   "name": "python",
   "nbconvert_exporter": "python",
   "pygments_lexer": "ipython3",
   "version": "3.9.7"
  }
 },
 "nbformat": 4,
 "nbformat_minor": 5
}
