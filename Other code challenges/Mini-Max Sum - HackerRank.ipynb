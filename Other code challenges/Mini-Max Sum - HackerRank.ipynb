{
 "cells": [
  {
   "cell_type": "markdown",
   "id": "b72a1b18",
   "metadata": {},
   "source": [
    "### Mini-Max Sum - HackerRank"
   ]
  },
  {
   "cell_type": "code",
   "execution_count": 4,
   "id": "eb3ca607",
   "metadata": {},
   "outputs": [
    {
     "name": "stdout",
     "output_type": "stream",
     "text": [
      "16 24\n"
     ]
    }
   ],
   "source": [
    "\"\"\"\n",
    "Given five positive integers, find the minimum and maximum values that can be calculated by summing \n",
    "exactly four of the five integers. Then print the respective minimum and maximum values as a single \n",
    "line of two space-separated long integers.\n",
    "\n",
    "Example\n",
    "arr = [1,3,5,7,9]\n",
    "The minimum sum is 1+3+5+7=16 and the maximum sum is 3+5+7+9=24. The function prints\n",
    "16 24\n",
    "\n",
    "Function Description\n",
    "Complete the miniMaxSum function in the editor below.\n",
    "miniMaxSum has the following parameter(s):\n",
    "arr: an array of 5 integers\n",
    "Print two space-separated integers on one line: the minimum sum and the maximum sum of  of  elements.\n",
    "\"\"\"\n",
    "\n",
    "from heapq import nsmallest # 'heapq.nsmallest' will extract the certain number of the smallest elements from \n",
    "# the given input list\n",
    "from heapq import nlargest # 'heapq.nlargest' will extract the certain number of the largest elements from \n",
    "# the given input list\n",
    "\n",
    "def miniMaxSum(arr):\n",
    "    minValue = sum(nsmallest(4, arr)) # The certain number of the smallest elements are extracted and summed\n",
    "    maxValue = sum(nlargest(4, arr)) # The certain number of the largest elements are extracted and summed as well\n",
    "    # Let's print the one line of two space-separated integers:\n",
    "    print(minValue, end=\" \")\n",
    "    print(maxValue)\n",
    "    \n",
    "miniMaxSum([1,3,5,7,9])"
   ]
  }
 ],
 "metadata": {
  "kernelspec": {
   "display_name": "Python 3 (ipykernel)",
   "language": "python",
   "name": "python3"
  },
  "language_info": {
   "codemirror_mode": {
    "name": "ipython",
    "version": 3
   },
   "file_extension": ".py",
   "mimetype": "text/x-python",
   "name": "python",
   "nbconvert_exporter": "python",
   "pygments_lexer": "ipython3",
   "version": "3.9.7"
  }
 },
 "nbformat": 4,
 "nbformat_minor": 5
}
