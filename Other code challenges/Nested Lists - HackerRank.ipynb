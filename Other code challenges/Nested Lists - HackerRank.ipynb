{
 "cells": [
  {
   "cell_type": "markdown",
   "id": "f91d2917",
   "metadata": {},
   "source": [
    "### Nested Lists - HackerRank"
   ]
  },
  {
   "cell_type": "code",
   "execution_count": null,
   "id": "e6959355",
   "metadata": {},
   "outputs": [],
   "source": [
    "\"\"\"\n",
    "Given the names and grades for each student in a class of N students, store them in a nested list and \n",
    "print the name(s) of any student(s) having the second lowest grade.\n",
    "\"\"\"\n",
    "\n",
    "from heapq import nsmallest # 'heapq.smallest' will return the two smallest scores within the list of grades\n",
    "\n",
    "if __name__ == '__main__':\n",
    "    names = [] # The list with names\n",
    "    grades = [] # The list with scores\n",
    "    for _ in range(int(input())):\n",
    "        name = input()\n",
    "        score = float(input())\n",
    "        names += [name] # All names are appended to the rear of the list with personal details\n",
    "        grades += [score] # All grades are appended to the rear of the list with scores\n",
    "    zip_list = list(zip(names, grades)) # The zip_list - two lists (names and grades) are merged together\n",
    "    # Through the implementation of the 'heapq.nsmallest' we obtain the list with the two smallest numeric \n",
    "    # elements - scores (among them we need the largest one, within the sorted list it is the last element)\n",
    "    second_lowest = sorted(nsmallest(2, list(set(grades))))[1]\n",
    "    final = [] # It is the list, which will store names of students with the second lowest scores\n",
    "    for i, j in zip_list:\n",
    "        if j == second_lowest:\n",
    "            final.append(i)\n",
    "    # The student/s is/are returned through the '\\n'\n",
    "    print(\"\\n\".join(sorted(final)))"
   ]
  }
 ],
 "metadata": {
  "kernelspec": {
   "display_name": "Python 3 (ipykernel)",
   "language": "python",
   "name": "python3"
  },
  "language_info": {
   "codemirror_mode": {
    "name": "ipython",
    "version": 3
   },
   "file_extension": ".py",
   "mimetype": "text/x-python",
   "name": "python",
   "nbconvert_exporter": "python",
   "pygments_lexer": "ipython3",
   "version": "3.9.7"
  }
 },
 "nbformat": 4,
 "nbformat_minor": 5
}
