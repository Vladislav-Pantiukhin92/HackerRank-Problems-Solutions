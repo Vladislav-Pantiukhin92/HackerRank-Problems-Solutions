{
 "cells": [
  {
   "cell_type": "markdown",
   "id": "8fe7803b",
   "metadata": {},
   "source": [
    "### Sales by Match - HackerRank"
   ]
  },
  {
   "cell_type": "code",
   "execution_count": 27,
   "id": "cc971714",
   "metadata": {},
   "outputs": [
    {
     "data": {
      "text/plain": [
       "2"
      ]
     },
     "execution_count": 27,
     "metadata": {},
     "output_type": "execute_result"
    }
   ],
   "source": [
    "\"\"\"\n",
    "There is a large pile of socks that must be paired by color. Given an array of integers representing the \n",
    "color of each sock, determine how many pairs of socks with matching colors there are.\n",
    "Example:\n",
    "n = 7\n",
    "ar = [1,2,1,2,1,3,2]\n",
    "There is one pair of color 1 and one of color 2. There are three odd socks left, one of each color. \n",
    "The number of pairs is 2.\n",
    "\n",
    "Function Description\n",
    "Complete the sockMerchant function in the editor below.\n",
    "sockMerchant has the following parameter(s):\n",
    "\n",
    "int n: the number of socks in the pile\n",
    "int ar[n]: the colors of each sock\n",
    "Returns\n",
    "int: the number of pairs\n",
    "\"\"\"\n",
    "\n",
    "from collections import Counter # 'collections.Counter' will make it possible to count occurrences of elements \n",
    "# within the given input list and calculate the number of pairs (if the specific occurrence is even)\n",
    "\n",
    "def sockMerchant(n, ar):\n",
    "    total = 0 # The initial number of pairs equals to 0\n",
    "    myDict = dict(Counter(ar)) # The dictionary with occurrences is created\n",
    "    for i in myDict:\n",
    "        if myDict[i] % 2 == 0: # If the key is even, the number of pairs is the key, divided by 2\n",
    "            pairs = myDict[i] // 2\n",
    "            total += pairs\n",
    "        else:\n",
    "            myDict[i] -= 1 # If the key is odd, the corresponding value is reduced by 1 and divided by 2\n",
    "            pairs = myDict[i] // 2\n",
    "            total += pairs\n",
    "    return total # The total number of pairs is returned\n",
    "\n",
    "sockMerchant(7, [1,2,1,2,1,3,2])"
   ]
  }
 ],
 "metadata": {
  "kernelspec": {
   "display_name": "Python 3 (ipykernel)",
   "language": "python",
   "name": "python3"
  },
  "language_info": {
   "codemirror_mode": {
    "name": "ipython",
    "version": 3
   },
   "file_extension": ".py",
   "mimetype": "text/x-python",
   "name": "python",
   "nbconvert_exporter": "python",
   "pygments_lexer": "ipython3",
   "version": "3.9.7"
  }
 },
 "nbformat": 4,
 "nbformat_minor": 5
}
