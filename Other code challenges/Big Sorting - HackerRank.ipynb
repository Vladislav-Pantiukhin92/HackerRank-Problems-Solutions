{
 "cells": [
  {
   "cell_type": "markdown",
   "id": "766cfe04",
   "metadata": {},
   "source": [
    "### Big Sorting - HackerRank"
   ]
  },
  {
   "cell_type": "code",
   "execution_count": 16,
   "id": "7369e77d",
   "metadata": {},
   "outputs": [
    {
     "data": {
      "text/plain": [
       "['1', '3', '150', '200']"
      ]
     },
     "execution_count": 16,
     "metadata": {},
     "output_type": "execute_result"
    }
   ],
   "source": [
    "\"\"\"\n",
    "Function Description\n",
    "Complete the bigSorting function in the editor below.\n",
    "bigSorting has the following parameter(s):\n",
    "string unsorted[n]: an unsorted array of integers as strings\n",
    "Returns\n",
    "string[n]: the array sorted in numerical order\n",
    "\"\"\"\n",
    "\n",
    "def bigSorting(unsorted):\n",
    "    # We will be able to use the sorted() function with the 'key=int' statement to sort the string numbers\n",
    "    # without the preliminary data type conversion:\n",
    "    return sorted(unsorted, key=int)\n",
    "\n",
    "bigSorting([\"1\", \"200\", \"150\", \"3\"])"
   ]
  }
 ],
 "metadata": {
  "kernelspec": {
   "display_name": "Python 3 (ipykernel)",
   "language": "python",
   "name": "python3"
  },
  "language_info": {
   "codemirror_mode": {
    "name": "ipython",
    "version": 3
   },
   "file_extension": ".py",
   "mimetype": "text/x-python",
   "name": "python",
   "nbconvert_exporter": "python",
   "pygments_lexer": "ipython3",
   "version": "3.9.7"
  }
 },
 "nbformat": 4,
 "nbformat_minor": 5
}
