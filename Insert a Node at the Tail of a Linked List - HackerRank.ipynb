{
 "cells": [
  {
   "cell_type": "markdown",
   "id": "4486ad06",
   "metadata": {},
   "source": [
    "### Insert a Node at the Tail of a Linked List - HackerRank"
   ]
  },
  {
   "cell_type": "code",
   "execution_count": null,
   "id": "ced58256",
   "metadata": {},
   "outputs": [],
   "source": [
    "\"\"\"\n",
    "You are given the pointer to the head node of a linked list and an integer to add to the list. Create a \n",
    "new node with the given integer. Insert this node at the tail of the linked list and return the head \n",
    "node of the linked list formed after inserting this new node. The given head pointer may be null, \n",
    "meaning that the initial list is empty.\n",
    "Function Description\n",
    "\n",
    "Complete the insertNodeAtTail function in the editor below.\n",
    "\n",
    "insertNodeAtTail has the following parameters:\n",
    "\n",
    "SinglyLinkedListNode pointer head: a reference to the head of a list\n",
    "int data: the data value for the node to insert\n",
    "Returns\n",
    "\n",
    "SinglyLinkedListNode pointer: reference to the head of the modified linked list\n",
    "\"\"\"\n",
    "\n",
    "def insertNodeAtTail(head, data):\n",
    "    newNode = SinglyLinkedListNode(data) # First of all, let's initialize the new node of the Singly Linked List\n",
    "    if head is None: # There is a possibility that the Singly Linked List is empty and the 'head' is None\n",
    "        head = newNode # In this case the new node is the head node\n",
    "    else:\n",
    "        # Alternatively, we are going to traverse the Singly Linked List, while the last node is not attained\n",
    "        current = head\n",
    "        while current.next:\n",
    "            current = current.next\n",
    "        current.next = newNode # After that the attachment of the new node is executed\n",
    "    return head # The 'head' node of the transformed Singly Linked List is returned"
   ]
  }
 ],
 "metadata": {
  "kernelspec": {
   "display_name": "Python 3 (ipykernel)",
   "language": "python",
   "name": "python3"
  },
  "language_info": {
   "codemirror_mode": {
    "name": "ipython",
    "version": 3
   },
   "file_extension": ".py",
   "mimetype": "text/x-python",
   "name": "python",
   "nbconvert_exporter": "python",
   "pygments_lexer": "ipython3",
   "version": "3.9.7"
  }
 },
 "nbformat": 4,
 "nbformat_minor": 5
}
