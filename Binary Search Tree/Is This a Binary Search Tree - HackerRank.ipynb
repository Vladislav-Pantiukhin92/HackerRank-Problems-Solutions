{
 "cells": [
  {
   "cell_type": "markdown",
   "id": "b4d913de",
   "metadata": {},
   "source": [
    "### Is This a Binary Search Tree? - HackerRank"
   ]
  },
  {
   "cell_type": "code",
   "execution_count": null,
   "id": "bc13898e",
   "metadata": {},
   "outputs": [],
   "source": [
    "\"\"\"\n",
    "For the purposes of this challenge, we define a binary tree to be a binary search tree with \n",
    "the following ordering requirements:\n",
    "The 'data' value of every node in a node's left subtree is less than the data value of that node.\n",
    "The 'data' value of every node in a node's right subtree is greater than the data value of that node.\n",
    "Given the root node of a binary tree, can you determine if it's also a binary search tree?\n",
    "\n",
    "Complete the function in your editor below, which has 1 parameter: a pointer to the root of a binary tree. \n",
    "It must return a boolean denoting whether or not the binary tree is a binary search tree. You may have to \n",
    "write one or more helper functions to complete this challenge.\n",
    "\"\"\"\n",
    "\n",
    "# It is possible to verify the existence of the Binary Search Tree through the Inorder Traversal\n",
    "# If the result of the Inorder Traversal is the array of nodes' values in ascending order - the Binary Search\n",
    "# Tree exists, otherwise it is not the Binary Search Tree:\n",
    "\n",
    "def check_binary_search_tree_(root):\n",
    "    def inOrder_traversal(root, final = []): # The Inorder Traversal function: left nodes -> root node -> right nodes\n",
    "        if root.left:\n",
    "            inOrder_traversal(root.left, final)\n",
    "        final.append(root.data)\n",
    "        if root.right:\n",
    "            inOrder_traversal(root.right, final)\n",
    "        return final # The list with nodes' values is returned\n",
    "    my_arr = inOrder_traversal(root)\n",
    "    # The next step is to verify the ascending order of the list with nodes' values:\n",
    "    i = 0\n",
    "    j = 1\n",
    "    while j < len(my_arr): # If the previous element >= the next element - we immediately return False\n",
    "        if my_arr[i] >= my_arr[j]:\n",
    "            return False\n",
    "        i += 1\n",
    "        j += 1\n",
    "    # Following the 'while loop' we return True, because errors were not raised\n",
    "    return True"
   ]
  }
 ],
 "metadata": {
  "kernelspec": {
   "display_name": "Python 3 (ipykernel)",
   "language": "python",
   "name": "python3"
  },
  "language_info": {
   "codemirror_mode": {
    "name": "ipython",
    "version": 3
   },
   "file_extension": ".py",
   "mimetype": "text/x-python",
   "name": "python",
   "nbconvert_exporter": "python",
   "pygments_lexer": "ipython3",
   "version": "3.9.7"
  }
 },
 "nbformat": 4,
 "nbformat_minor": 5
}
