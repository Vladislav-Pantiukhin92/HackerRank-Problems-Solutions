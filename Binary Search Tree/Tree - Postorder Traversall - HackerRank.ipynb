{
 "cells": [
  {
   "cell_type": "markdown",
   "id": "37beced1",
   "metadata": {},
   "source": [
    "### Tree: Postorder Traversal - HackerRank"
   ]
  },
  {
   "cell_type": "code",
   "execution_count": null,
   "id": "b22e40e5",
   "metadata": {},
   "outputs": [],
   "source": [
    "\"\"\"\n",
    "Complete the postOrder function in the editor below. It received 1 parameter: a pointer to the root of a binary \n",
    "tree. It must print the values in the tree's postorder traversal as a single line of space-separated values.\n",
    "Input Format\n",
    "Our test code passes the root node of a binary tree to the postOrder function.\n",
    "\"\"\"\n",
    "# The Postorder traversal envisages the following order of operations: left nodes -> right nodes -> root node\n",
    "\n",
    "def postOrder(root): # The Postorder traversal function\n",
    "    if root.left: # Initially, traversal of left nodes\n",
    "        postOrder(root.left)\n",
    "    if root.right: # After that, traversal of right nodes\n",
    "        postOrder(root.right)\n",
    "    print(root.info, end=\" \") # Finally, the root node is printed"
   ]
  }
 ],
 "metadata": {
  "kernelspec": {
   "display_name": "Python 3 (ipykernel)",
   "language": "python",
   "name": "python3"
  },
  "language_info": {
   "codemirror_mode": {
    "name": "ipython",
    "version": 3
   },
   "file_extension": ".py",
   "mimetype": "text/x-python",
   "name": "python",
   "nbconvert_exporter": "python",
   "pygments_lexer": "ipython3",
   "version": "3.9.7"
  }
 },
 "nbformat": 4,
 "nbformat_minor": 5
}
