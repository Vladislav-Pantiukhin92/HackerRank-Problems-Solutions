{
 "cells": [
  {
   "cell_type": "markdown",
   "id": "5d3ff60e",
   "metadata": {},
   "source": [
    "### Tree: Preorder Traversal - HackerRank"
   ]
  },
  {
   "cell_type": "code",
   "execution_count": null,
   "id": "c21274e2",
   "metadata": {},
   "outputs": [],
   "source": [
    "\"\"\"\n",
    "Complete the preOrder function in the editor below, which has  parameter: a pointer to the root of a \n",
    "binary tree. It must print the values in the tree's preorder traversal as a single line of \n",
    "space-separated values.\n",
    "Input Format\n",
    "Our test code passes the root node of a binary tree to the preOrder function.\n",
    "\"\"\"\n",
    "\n",
    "\n",
    "# The Preorder traversal envisages the following order of operations: root node -> left nodes -> right nodes\n",
    "def preOrder(root): # The Preorder traversal function\n",
    "    print(root.info, end=\" \") # The root node is printed\n",
    "    if root.left: # Traversal of left nodes\n",
    "        preOrder(root.left)\n",
    "    if root.right: # Traversal of right nodes\n",
    "        preOrder(root.right)\n",
    "        "
   ]
  }
 ],
 "metadata": {
  "kernelspec": {
   "display_name": "Python 3 (ipykernel)",
   "language": "python",
   "name": "python3"
  },
  "language_info": {
   "codemirror_mode": {
    "name": "ipython",
    "version": 3
   },
   "file_extension": ".py",
   "mimetype": "text/x-python",
   "name": "python",
   "nbconvert_exporter": "python",
   "pygments_lexer": "ipython3",
   "version": "3.9.7"
  }
 },
 "nbformat": 4,
 "nbformat_minor": 5
}
