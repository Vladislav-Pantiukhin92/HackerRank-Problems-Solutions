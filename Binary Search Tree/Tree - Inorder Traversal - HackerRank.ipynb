{
 "cells": [
  {
   "cell_type": "markdown",
   "id": "3bee6d70",
   "metadata": {},
   "source": [
    "### Tree: Inorder Traversal - HackerRank"
   ]
  },
  {
   "cell_type": "code",
   "execution_count": null,
   "id": "6c7dac4b",
   "metadata": {},
   "outputs": [],
   "source": [
    "\"\"\"\n",
    "In this challenge, you are required to implement inorder traversal of a tree.\n",
    "Complete the inOrder function in your editor below, which has 1 parameter: a pointer to the root of a binary \n",
    "tree. It must print the values in the tree's inorder traversal as a single line of space-separated values.\n",
    "Input Format\n",
    "Our hidden tester code passes the root node of a binary tree to your $inOrder* function.\n",
    "\"\"\"\n",
    "# The Inorder Traversal envisages the following order of operations: left nodes -> root node -> right nodes\n",
    "def inOrder(root): # The Inorder Traversal function (print nodes' values in ascending order)\n",
    "    if root.left: # Traversal of left nodes\n",
    "        inOrder(root.left)\n",
    "    print(root.info, end=\" \") # The root node is printed\n",
    "    if root.right: # Traversal of right nodes\n",
    "        inOrder(root.right)"
   ]
  }
 ],
 "metadata": {
  "kernelspec": {
   "display_name": "Python 3 (ipykernel)",
   "language": "python",
   "name": "python3"
  },
  "language_info": {
   "codemirror_mode": {
    "name": "ipython",
    "version": 3
   },
   "file_extension": ".py",
   "mimetype": "text/x-python",
   "name": "python",
   "nbconvert_exporter": "python",
   "pygments_lexer": "ipython3",
   "version": "3.9.7"
  }
 },
 "nbformat": 4,
 "nbformat_minor": 5
}
