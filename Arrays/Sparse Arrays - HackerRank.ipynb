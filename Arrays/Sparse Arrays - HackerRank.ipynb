{
 "cells": [
  {
   "cell_type": "markdown",
   "id": "cde83d92",
   "metadata": {},
   "source": [
    "### Sparse Arrays - HackerRank"
   ]
  },
  {
   "cell_type": "code",
   "execution_count": 3,
   "id": "d6244393",
   "metadata": {},
   "outputs": [
    {
     "data": {
      "text/plain": [
       "[2, 1, 0]"
      ]
     },
     "execution_count": 3,
     "metadata": {},
     "output_type": "execute_result"
    }
   ],
   "source": [
    "\"\"\"\n",
    "There is a collection of input strings and a collection of query strings. For each query string, \n",
    "determine how many times it occurs in the list of input strings. Return an array of the results.\n",
    "Function Description\n",
    "Complete the function matchingStrings in the editor below. The function must return an array of \n",
    "integers representing the frequency of occurrence of each query string in strings.\n",
    "matchingStrings has the following parameters:\n",
    "\n",
    "string strings[n] - an array of strings to search\n",
    "string queries[q] - an array of query strings\n",
    "Returns\n",
    "int[q]: an array of results for each query\n",
    "\"\"\"\n",
    "\n",
    "from collections import Counter # 'collections.Counter' will make it possible to create the dictionary, where\n",
    "# keys are strings and values are strings' occurrences within the given input list\n",
    "\n",
    "def matchingStrings(strings, queries):\n",
    "    occurrences = dict(Counter(strings)) # The above-mentioned dictionary is created with the help of \n",
    "    # 'collections.Counter'\n",
    "    final = [] # The new list container, which will store occurrences. The list container will be finally returned\n",
    "    for i in queries:\n",
    "        if i not in occurrences: # If the string is not within the dictionary - we add 0 (no occurrences at all)\n",
    "            final.append(0)\n",
    "        else: # Otherwise, we add the corresponding occurrence\n",
    "            final.append(occurrences[i])\n",
    "    return final # The final list with occurrences is returned\n",
    "\n",
    "matchingStrings([\"ab\",\"ab\",\"abc\"], [\"ab\",\"abc\",\"bc\"])"
   ]
  }
 ],
 "metadata": {
  "kernelspec": {
   "display_name": "Python 3 (ipykernel)",
   "language": "python",
   "name": "python3"
  },
  "language_info": {
   "codemirror_mode": {
    "name": "ipython",
    "version": 3
   },
   "file_extension": ".py",
   "mimetype": "text/x-python",
   "name": "python",
   "nbconvert_exporter": "python",
   "pygments_lexer": "ipython3",
   "version": "3.9.7"
  }
 },
 "nbformat": 4,
 "nbformat_minor": 5
}
