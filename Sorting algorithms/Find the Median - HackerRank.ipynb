{
 "cells": [
  {
   "cell_type": "markdown",
   "id": "32b98d13",
   "metadata": {},
   "source": [
    "### Find the Median - HackerRank"
   ]
  },
  {
   "cell_type": "code",
   "execution_count": 25,
   "id": "21535ec1",
   "metadata": {},
   "outputs": [
    {
     "data": {
      "text/plain": [
       "3"
      ]
     },
     "execution_count": 25,
     "metadata": {},
     "output_type": "execute_result"
    }
   ],
   "source": [
    "\"\"\"\n",
    "The median of a list of numbers is essentially its middle element after sorting. The same number of \n",
    "elements occur after it as before. Given a list of numbers with an odd number of elements, find the median?\n",
    "\n",
    "arr = [5,3,1,2,4]\n",
    "The sorted array 'arr' = [1,2,3,4,5]. The middle element and the median is 3.\n",
    "\n",
    "Function Description:\n",
    "Complete the findMedian function in the editor below.\n",
    "\n",
    "findMedian has the following parameter(s):\n",
    "int arr[n]: an unsorted array of integers\n",
    "Returns\n",
    "int: the median of the array\n",
    "Input Format\n",
    "The first line contains the integer n, the size of arr.\n",
    "The second line contains n space-separated integers arr[i]\n",
    "\"\"\"\n",
    "\n",
    "from statistics import median # The module will help to calculate the median value of the given input array\n",
    "\n",
    "def findMedian(arr):\n",
    "# For starters, let's implement the MergeSort algorithm for sorting the given input array in ascending order:\n",
    "# The MergeSort algorithm:\n",
    "    def merge_sort(array):\n",
    "        if len(array) < 2: # If the given input array contains 0 elements or only 1 element, this array is \n",
    "            # already sorted, so we return it without changes\n",
    "            return array\n",
    "        else:\n",
    "        # Alternatively, we split the given input array into two equal parts:\n",
    "            middle = len(array) // 2\n",
    "            left = array[:middle] # The left part of the array\n",
    "            right = array[middle:] # The right part of the array\n",
    "            # The recursive approach is used to sort these two parts of the given input array\n",
    "            left = merge_sort(left)\n",
    "            right = merge_sort(right)\n",
    "            return merge(left, right)\n",
    "    # Below is the function, which merges two sorted arrays together to obtain the bigger sorted output array:\n",
    "    def merge(array1, array2):\n",
    "    # Two pointers to iterate over two sorted arrays:\n",
    "        i = 0\n",
    "        k = 0\n",
    "        final = [] # The list container, which will store elements from both sorted arrays in ascending order\n",
    "        while i < len(array1) and k < len(array2):\n",
    "            if array1[i] > array2[k]:\n",
    "                final.append(array2[k])\n",
    "                k += 1\n",
    "            else:\n",
    "                final.append(array1[i])\n",
    "                i += 1\n",
    "        while i < len(array1):\n",
    "            final.append(array1[i])\n",
    "            i += 1\n",
    "        while k < len(array2):\n",
    "            final.append(array2[k])\n",
    "            k += 1\n",
    "        return final\n",
    "    sort_arr = merge_sort(arr) # The merged sorted array is obtained\n",
    "    return median(sort_arr) # Finally, the median value of the sorted array is returned\n",
    "\n",
    "findMedian([5,3,1,2,4])"
   ]
  }
 ],
 "metadata": {
  "kernelspec": {
   "display_name": "Python 3 (ipykernel)",
   "language": "python",
   "name": "python3"
  },
  "language_info": {
   "codemirror_mode": {
    "name": "ipython",
    "version": 3
   },
   "file_extension": ".py",
   "mimetype": "text/x-python",
   "name": "python",
   "nbconvert_exporter": "python",
   "pygments_lexer": "ipython3",
   "version": "3.9.7"
  }
 },
 "nbformat": 4,
 "nbformat_minor": 5
}
