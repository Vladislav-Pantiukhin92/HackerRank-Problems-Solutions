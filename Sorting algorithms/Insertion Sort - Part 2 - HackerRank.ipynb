{
 "cells": [
  {
   "cell_type": "markdown",
   "id": "b5203e1c",
   "metadata": {},
   "source": [
    "### Insertion Sort - Part 2 - HackerRank"
   ]
  },
  {
   "cell_type": "code",
   "execution_count": 26,
   "id": "89070f03",
   "metadata": {},
   "outputs": [
    {
     "name": "stdout",
     "output_type": "stream",
     "text": [
      "3 4 7 5 6 2 1\n",
      "3 4 7 5 6 2 1\n",
      "3 4 5 7 6 2 1\n",
      "3 4 5 6 7 2 1\n",
      "2 3 4 5 6 7 1\n",
      "1 2 3 4 5 6 7\n"
     ]
    }
   ],
   "source": [
    "\"\"\"\n",
    "In Insertion Sort Part 1, you inserted one element into an array at its correct sorted position. \n",
    "Using the same approach repeatedly, can you sort an entire array?\n",
    "Guideline: You already can place an element into a sorted array. How can you use that code to build up \n",
    "a sorted array, one element at a time? Note that in the first step, when you consider an array with just \n",
    "the first element, it is already sorted since there's nothing to compare it to.\n",
    "In this challenge, print the array after each iteration of the insertion sort, i.e., whenever the next \n",
    "element has been inserted at its correct position. Since the array composed of just the first element \n",
    "is already sorted, begin printing after placing the second element.\n",
    "\n",
    "Example:\n",
    "n = 7\n",
    "arr = [3,4,7,5,6,2,1]\n",
    "\n",
    "Working from left to right, we get the following output:\n",
    "\n",
    "3 4 7 5 6 2 1\n",
    "3 4 7 5 6 2 1\n",
    "3 4 5 7 6 2 1\n",
    "3 4 5 6 7 2 1\n",
    "2 3 4 5 6 7 1\n",
    "1 2 3 4 5 6 7\n",
    "\"\"\"\n",
    "\n",
    "# Below is the Insertion Sort algorithm:\n",
    "def insertionSort2(n, arr):\n",
    "# The given input array is split into two parts:\n",
    "# The first part is the array, which contains only 1 element (the first element). This array is already sorted\n",
    "# The second part is the array with the rest of elements:\n",
    "    for i in range(1, n): # During the 'for loop' iteration, elements from the second array should be inserted \n",
    "        # at the relevant position of the first array:\n",
    "        j = i\n",
    "        while j > 0 and arr[j - 1] > arr[j]:\n",
    "            arr[j - 1], arr[j] = arr[j], arr[j - 1]\n",
    "            j -= 1\n",
    "        # The result of each iteration is printed:\n",
    "        print_arr = \" \".join(list(map(str, arr)))\n",
    "        print(print_arr)\n",
    "        \n",
    "insertionSort2(7, [3,4,7,5,6,2,1])"
   ]
  }
 ],
 "metadata": {
  "kernelspec": {
   "display_name": "Python 3 (ipykernel)",
   "language": "python",
   "name": "python3"
  },
  "language_info": {
   "codemirror_mode": {
    "name": "ipython",
    "version": 3
   },
   "file_extension": ".py",
   "mimetype": "text/x-python",
   "name": "python",
   "nbconvert_exporter": "python",
   "pygments_lexer": "ipython3",
   "version": "3.9.7"
  }
 },
 "nbformat": 4,
 "nbformat_minor": 5
}
