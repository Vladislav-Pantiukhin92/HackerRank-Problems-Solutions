{
 "cells": [
  {
   "cell_type": "markdown",
   "id": "09a71508",
   "metadata": {},
   "source": [
    "### Closest Numbers - HackerRank"
   ]
  },
  {
   "cell_type": "code",
   "execution_count": 24,
   "id": "282f2f22",
   "metadata": {},
   "outputs": [
    {
     "data": {
      "text/plain": [
       "[1, 2, 2, 3, 3, 4, 4, 5]"
      ]
     },
     "execution_count": 24,
     "metadata": {},
     "output_type": "execute_result"
    }
   ],
   "source": [
    "\"\"\"\n",
    "Sorting is useful as the first step in many different tasks. The most common task is to make finding \n",
    "things easier, but there are other uses as well. In this case, it will make it easier to determine which \n",
    "pair or pairs of elements have the smallest absolute difference between them.\n",
    "\n",
    "Example:\n",
    "arr=[5,2,3,4,1]\n",
    "\n",
    "Sorted,arr’=[1,2,3,4,5]. Several pairs have the minimum difference of 1:[(1,2),(2,3),(3,4),(4,5)]. \n",
    "Return the array [1,2,2,3,3,4,4,5].\n",
    "\n",
    "Note:\n",
    "As shown in the example, pairs may overlap.\n",
    "Given a list of unsorted integers, arr, find the pair of elements that have the smallest absolute \n",
    "difference between them. If there are multiple pairs, find them all.\n",
    "\"\"\"\n",
    "\n",
    "def closestNumbers(arr):\n",
    "# First of all, let's sort the given input array in ascending order, using the QuickSort algorithm:\n",
    "# Below is the QuickSort algorithm:\n",
    "    def quick_sort(array):\n",
    "        if len(array) < 2: # If the given input array contains 0 elements or only 1 element, this array is \n",
    "            # already sorted, and we return it without changes\n",
    "            return array\n",
    "        else:\n",
    "# Alternatively, we are going to pick out the pivot element and create three lists through the list comprehension:\n",
    "            pivot = array[0] # The pivot element\n",
    "            smaller = [i for i in array if i < pivot] # List with elements, which are smaller than the pivot element\n",
    "            equal = [i for i in array if i == pivot] # List with elements, which are equal to the pivot element\n",
    "            greater = [i for i in array if i > pivot] # List with elements, which are greater than the pivot element\n",
    "            return quick_sort(smaller) + equal + quick_sort(greater) # Recursive approach\n",
    "    sort_arr = quick_sort(arr) # With the help of the QuickSort algorithm we have the array, sorted in ascending order\n",
    "# The next step is to find the smallest absolute difference between two adjacent elements:\n",
    "    smallest_difference = float(\"inf\")\n",
    "    i = 0\n",
    "    j = 1\n",
    "# Calculation of the smallest absolute difference:\n",
    "    while j < len(sort_arr):\n",
    "        if sort_arr[j] - sort_arr[i] < smallest_difference:\n",
    "            smallest_difference = sort_arr[j] - sort_arr[i]\n",
    "        i += 1\n",
    "        j += 1\n",
    "    final = []\n",
    "    i = 0\n",
    "    j = 1\n",
    "# The smallest absolute difference is obtained, so the final operation is to find all pairs, which meet the \n",
    "# requirement, regarding the calculated smallest absolute difference:\n",
    "    while j < len(sort_arr):\n",
    "        if sort_arr[j] - sort_arr[i] == smallest_difference:\n",
    "            final.extend([sort_arr[i], sort_arr[j]])\n",
    "        i += 1\n",
    "        j += 1\n",
    "    return final # The list with relevant pairs is returned\n",
    "\n",
    "closestNumbers([5,2,3,4,1])"
   ]
  }
 ],
 "metadata": {
  "kernelspec": {
   "display_name": "Python 3 (ipykernel)",
   "language": "python",
   "name": "python3"
  },
  "language_info": {
   "codemirror_mode": {
    "name": "ipython",
    "version": 3
   },
   "file_extension": ".py",
   "mimetype": "text/x-python",
   "name": "python",
   "nbconvert_exporter": "python",
   "pygments_lexer": "ipython3",
   "version": "3.9.7"
  }
 },
 "nbformat": 4,
 "nbformat_minor": 5
}
