{
 "cells": [
  {
   "cell_type": "markdown",
   "id": "0a06da7a",
   "metadata": {},
   "source": [
    "### Quicksort 1 - Partition - HackerRank"
   ]
  },
  {
   "cell_type": "code",
   "execution_count": 15,
   "id": "54f8b836",
   "metadata": {},
   "outputs": [
    {
     "data": {
      "text/plain": [
       "[2, 4, 7, 12, 13]"
      ]
     },
     "execution_count": 15,
     "metadata": {},
     "output_type": "execute_result"
    }
   ],
   "source": [
    "\"\"\"\n",
    "We're covering a divide-and-conquer algorithm called Quicksort (also known as Partition Sort). \n",
    "This challenge is a modified version of the algorithm that only addresses partitioning.\n",
    "Function Description\n",
    "Complete the quickSort function in the editor below.\n",
    "\"\"\"\n",
    "\n",
    "# Implementation of the Quick Sort algorithm, using the recursive approach ('Divide and Conquer' method):\n",
    "def quickSort(arr):\n",
    "    if len(arr) < 2: # If the length of the given input unsorted array < 2 (if the array contains 0 or 1 element - \n",
    "        # we return the given input array without any additional changes, because the array is already sorted)\n",
    "        return arr\n",
    "    else: # The case, when the given input unsorted array contains over 1 element\n",
    "        pivot = arr[0] # We pick out the pivot element\n",
    "        # After that three lists are generated (for example, through the list comprehension method)\n",
    "        smaller = [i for i in arr if i < pivot] # The first list with elements, which are smaller than the pivot element\n",
    "        equal = [i for i in arr if i == pivot] # The second list with elements, which are equal to the pivot element\n",
    "        greater = [i for i in arr if i > pivot] # The third list with elements, which are larger than the pivot element\n",
    "        # The final step is to pass the first and the third lists to the recursive function (the second list/\n",
    "        # list with equal elements is not passed, because such kind of array is already sorted)\n",
    "        return quickSort(smaller) + equal + quickSort(greater)\n",
    "    \n",
    "quickSort([4,7,2,13,12])"
   ]
  }
 ],
 "metadata": {
  "kernelspec": {
   "display_name": "Python 3 (ipykernel)",
   "language": "python",
   "name": "python3"
  },
  "language_info": {
   "codemirror_mode": {
    "name": "ipython",
    "version": 3
   },
   "file_extension": ".py",
   "mimetype": "text/x-python",
   "name": "python",
   "nbconvert_exporter": "python",
   "pygments_lexer": "ipython3",
   "version": "3.9.7"
  }
 },
 "nbformat": 4,
 "nbformat_minor": 5
}
