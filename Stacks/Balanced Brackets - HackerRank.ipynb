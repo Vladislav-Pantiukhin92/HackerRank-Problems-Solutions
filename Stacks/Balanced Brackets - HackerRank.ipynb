{
 "cells": [
  {
   "cell_type": "markdown",
   "id": "34023600",
   "metadata": {},
   "source": [
    "### Balanced Brackets - HackerRank"
   ]
  },
  {
   "cell_type": "code",
   "execution_count": 1,
   "id": "c651732c",
   "metadata": {},
   "outputs": [
    {
     "data": {
      "text/plain": [
       "'NO'"
      ]
     },
     "execution_count": 1,
     "metadata": {},
     "output_type": "execute_result"
    }
   ],
   "source": [
    "\"\"\"\n",
    "A bracket is considered to be any one of the following characters: (, ), {, }, [, or ].\n",
    "Two brackets are considered to be a matched pair if the an opening bracket (i.e., (, [, or {) occurs \n",
    "to the left of a closing bracket (i.e., ), ], or }) of the exact same type. There are three types of \n",
    "matched pairs of brackets: [], {}, and ().\n",
    "A matching pair of brackets is not balanced if the set of brackets it encloses are not matched. \n",
    "For example, {[(])} is not balanced because the contents in between { and } are not balanced. \n",
    "The pair of square brackets encloses a single, unbalanced opening bracket, (, and the pair of \n",
    "parentheses encloses a single, unbalanced closing square bracket, ].\n",
    "By this logic, we say a sequence of brackets is balanced if the following conditions are met:\n",
    "It contains no unmatched brackets.\n",
    "The subset of brackets enclosed within the confines of a matched pair of brackets is also a matched \n",
    "pair of brackets.\n",
    "Given 'n' strings of brackets, determine whether each sequence of brackets is balanced. If a string is \n",
    "balanced, return YES. Otherwise, return NO.\n",
    "\"\"\"\n",
    "\n",
    "from queue import LifoQueue # The in-built Python function, which creates the stack structure\n",
    "\n",
    "def isBalanced(s):\n",
    "    s = list(s) # The given input string is transformed into the list of elements\n",
    "    # Let's define different kinds of brackets:\n",
    "    open_brackets = [\"(\", \"[\", \"{\"] \n",
    "    closed_brackets = [\")\", \"]\", \"}\"]\n",
    "    full_brackets = [\"()\", \"[]\", \"{}\"]\n",
    "    my_stack = LifoQueue() # The stack structure is initialized\n",
    "    # We are going to extract brackets from the given input list and compare them with elements from the stack \n",
    "    # structure:\n",
    "    while s:\n",
    "        curBracket = s.pop(0) # Extraction\n",
    "        if my_stack.empty(): # The stack structure may contain no elements at all\n",
    "            if curBracket in open_brackets: # In this case, if we deal with the open bracket - we just add it\n",
    "                my_stack.put(curBracket) # to the stack\n",
    "            else: # If we deal with the closed bracket - we return \"NO\" at once\n",
    "                return \"NO\"\n",
    "        else:\n",
    "            # If the stack structure is non-empty - we compare the last element from the stack and the extracted\n",
    "            # element from the given input list:\n",
    "            stack_elem = my_stack.get()\n",
    "            brackets = stack_elem + curBracket # If the full-fledged, balanced pair of brackets is obtained - we \n",
    "            # move on\n",
    "            if brackets not in full_brackets: # Otherwise, we add these brackets to the stack structure\n",
    "                my_stack.put(stack_elem)\n",
    "                my_stack.put(curBracket)\n",
    "    if my_stack.empty(): # Finally, if the stack is empty - the brackets are balanced, and we return \"YES\"\n",
    "        return \"YES\"\n",
    "    return \"NO\" # Otherwise (if the stack structure still contains some elements), we return \"NO\"\n",
    "\n",
    "isBalanced(\"{[(])}\")"
   ]
  }
 ],
 "metadata": {
  "kernelspec": {
   "display_name": "Python 3 (ipykernel)",
   "language": "python",
   "name": "python3"
  },
  "language_info": {
   "codemirror_mode": {
    "name": "ipython",
    "version": 3
   },
   "file_extension": ".py",
   "mimetype": "text/x-python",
   "name": "python",
   "nbconvert_exporter": "python",
   "pygments_lexer": "ipython3",
   "version": "3.9.7"
  }
 },
 "nbformat": 4,
 "nbformat_minor": 5
}
